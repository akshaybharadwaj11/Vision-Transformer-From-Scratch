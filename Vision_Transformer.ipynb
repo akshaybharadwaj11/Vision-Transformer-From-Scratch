{
  "nbformat": 4,
  "nbformat_minor": 0,
  "metadata": {
    "colab": {
      "provenance": [],
      "gpuType": "T4"
    },
    "kernelspec": {
      "name": "python3",
      "display_name": "Python 3"
    },
    "language_info": {
      "name": "python"
    },
    "accelerator": "GPU"
  },
  "cells": [
    {
      "cell_type": "markdown",
      "source": [
        "# Vision Transformer from Scratch"
      ],
      "metadata": {
        "id": "x-4kjTWoCadE"
      }
    },
    {
      "cell_type": "code",
      "source": [
        "import numpy as np\n",
        "import torch\n",
        "import torchvision\n",
        "import torch.nn as nn\n",
        "import torch.nn.functional as F"
      ],
      "metadata": {
        "id": "CXVBRYfJvxRp"
      },
      "execution_count": 1,
      "outputs": []
    },
    {
      "cell_type": "markdown",
      "source": [
        "## Patch Embedding\n",
        "\n",
        "* Split the image into patches based **patch_size**.\n",
        "\n",
        "  `Number of patches (n_patches) = (img_h // patch_size) * (img_w // patch_size)`\n",
        "\n",
        "* Flatten patches into 1D vector. size of each 1D vector will be `patch_size * patch_size * in_channels`.\n",
        "\n",
        "  Ex : If patch_size is 16 and the image is a color image(RGB)\n",
        "      `16 * 16 * 3(in_channels (RGB))`\n",
        "\n",
        "* Project the 1D vectors to an Embed vector `embed_dim` to create patch embedding\n",
        "`Projected vector = W⋅x+b`"
      ],
      "metadata": {
        "id": "JNiuq8Ftn2Cc"
      }
    },
    {
      "cell_type": "code",
      "source": [
        "class PatchEmbedding(nn.Module):\n",
        "    def __init__(self, patch_size, in_channels, embed_dim):\n",
        "        super(PatchEmbedding, self).__init__()\n",
        "\n",
        "        self.patch_size = patch_size\n",
        "        self.embed_dim = embed_dim\n",
        "\n",
        "        self.projection = nn.Linear(in_channels * patch_size * patch_size, embed_dim)\n",
        "\n",
        "    def forward(self, x):\n",
        "\n",
        "        batch_size, in_channels, height, width = x.size()\n",
        "        n_patches = (height // self.patch_size) * (width // self.patch_size)\n",
        "\n",
        "        x = x.unfold(2, self.patch_size, self.patch_size).unfold(3, self.patch_size, self.patch_size)\n",
        "        x = x.contiguous().view(batch_size, in_channels, -1, self.patch_size*self.patch_size)\n",
        "\n",
        "        x = x.permute(0, 2, 1, 3)\n",
        "\n",
        "        x = x.contiguous().view(batch_size, n_patches, -1)\n",
        "\n",
        "        x = self.projection(x)\n",
        "\n",
        "        return x"
      ],
      "metadata": {
        "id": "bvRk1MropciF"
      },
      "execution_count": 2,
      "outputs": []
    },
    {
      "cell_type": "markdown",
      "source": [
        "## Position Encoding"
      ],
      "metadata": {
        "id": "SVYPqj3CenWU"
      }
    },
    {
      "cell_type": "code",
      "source": [
        "class Position_Encoding(nn.Module):\n",
        "    def __init__(self, embed_dim, n_patches):\n",
        "        super(Position_Encoding, self).__init__()\n",
        "\n",
        "        self.position_encoding = nn.Parameter(torch.randn(1, n_patches + 1, embed_dim))\n",
        "\n",
        "    def forward(self, x):\n",
        "        return x + self.position_encoding\n"
      ],
      "metadata": {
        "id": "PhHcLOBbpcrd"
      },
      "execution_count": 3,
      "outputs": []
    },
    {
      "cell_type": "markdown",
      "source": [
        "## Multi Head Self Attention\n",
        "\n",
        "* Attention Scores are calculated as Scaled dot product between Querys and Keys generated from the same sequence\n",
        "\n",
        "* Attention Score:\n",
        "  `Q.inv(K)/sqrt(head dim)`\n",
        "\n",
        "* The computed attention scores are then multiplied with the Value vector to generate the output"
      ],
      "metadata": {
        "id": "2-ccMTtofgh_"
      }
    },
    {
      "cell_type": "code",
      "source": [
        "class MultiHeadSelfAttention(nn.Module):\n",
        "    def __init__(self, embed_dim, num_heads):\n",
        "        super(MultiHeadSelfAttention, self).__init__()\n",
        "\n",
        "        assert embed_dim % num_heads == 0 , \"Embedding dimesion should be divisible by num heads\"\n",
        "\n",
        "        self.num_heads = num_heads\n",
        "        self.embed_dim = embed_dim\n",
        "\n",
        "        self.head_dim = embed_dim // num_heads\n",
        "\n",
        "        self.query = nn.Linear(embed_dim, embed_dim)\n",
        "        self.key = nn.Linear(embed_dim, embed_dim)\n",
        "        self.value = nn.Linear(embed_dim, embed_dim)\n",
        "\n",
        "        self.out = nn.Linear(embed_dim, embed_dim)\n",
        "\n",
        "    def forward(self, x):\n",
        "\n",
        "        batch_size, n_patches, embed_dim = x.size()\n",
        "\n",
        "        Q = self.query(x)\n",
        "        K = self.query(x)\n",
        "        V = self.query(x)\n",
        "\n",
        "\n",
        "        Q = Q.view(batch_size, n_patches, self.num_heads, self.head_dim).permute(0, 2, 1, 3)\n",
        "\n",
        "        K = K.view(batch_size, n_patches, self.num_heads, self.head_dim).permute(0, 2, 1, 3)\n",
        "\n",
        "        V = V.view(batch_size, n_patches, self.num_heads, self.head_dim).permute(0, 2, 1, 3)\n",
        "\n",
        "\n",
        "        scores = torch.matmul(Q, K.transpose(-2, -1)) / torch.sqrt(torch.tensor(self.head_dim, dtype=torch.float32))\n",
        "\n",
        "        attention = torch.softmax(scores, dim=-1)\n",
        "\n",
        "\n",
        "        out = torch.matmul(attention, V)\n",
        "\n",
        "        # Reshape back to original dimensions: [batch_size, n_patches, embed_dim]\n",
        "        out = out.permute(0, 2, 1, 3).contiguous().view(batch_size, n_patches, embed_dim)\n",
        "\n",
        "        out = self.out(out)\n",
        "\n",
        "        return out"
      ],
      "metadata": {
        "id": "ntm4mSQ7pcu1"
      },
      "execution_count": 4,
      "outputs": []
    },
    {
      "cell_type": "markdown",
      "source": [
        "## Transformer EncoderBlock"
      ],
      "metadata": {
        "id": "kTzUQaL7gli9"
      }
    },
    {
      "cell_type": "code",
      "source": [
        "class TransformerEncoder(nn.Module):\n",
        "    def __init__(self, embed_dim, num_heads, mlp_dim, dropout=0.1):\n",
        "        super(TransformerEncoder, self).__init__()\n",
        "\n",
        "        self.self_attn = MultiHeadSelfAttention(embed_dim, num_heads)\n",
        "        self.linear1 = nn.Linear(embed_dim, mlp_dim)\n",
        "        self.dropout = nn.Dropout(dropout)\n",
        "        self.linear2 = nn.Linear(mlp_dim, embed_dim)\n",
        "        self.norm1 = nn.LayerNorm(embed_dim)\n",
        "        self.norm2 = nn.LayerNorm(embed_dim)\n",
        "        self.dropout1 = nn.Dropout(dropout)\n",
        "        self.dropout2 = nn.Dropout(dropout)\n",
        "\n",
        "\n",
        "    def forward(self, x):\n",
        "        attn_out = self.self_attn(x)\n",
        "        x = x + self.dropout1(attn_out)\n",
        "        x = self.norm1(x)\n",
        "\n",
        "        ff_out = self.linear2(self.dropout(F.gelu(self.linear1(x))))\n",
        "        x = x + self.dropout2(ff_out)\n",
        "        x = self.norm2(x)\n",
        "\n",
        "        return x\n",
        "\n",
        "\n"
      ],
      "metadata": {
        "id": "vRNkE6tpST8y"
      },
      "execution_count": 5,
      "outputs": []
    },
    {
      "cell_type": "markdown",
      "source": [
        "## Vision Transformer Class"
      ],
      "metadata": {
        "id": "pSWQXKNrgsRn"
      }
    },
    {
      "cell_type": "code",
      "source": [
        "class VisionTransformer(nn.Module):\n",
        "    def __init__(self, img_size, in_channels, patch_size, embed_dim, mlp_dim, num_heads, num_layers, num_classes):\n",
        "        super(VisionTransformer, self).__init__()\n",
        "\n",
        "        self.patch_size = patch_size\n",
        "\n",
        "        # Number of Patches\n",
        "        n_patches = (img_size // patch_size) * (img_size // patch_size)\n",
        "\n",
        "        # Generate Patch Embeddings\n",
        "        self.patch_embedding = PatchEmbedding(patch_size=patch_size, in_channels=in_channels, embed_dim=embed_dim)\n",
        "\n",
        "        # Positional Encoding\n",
        "        self.position_encoding = Position_Encoding(embed_dim, n_patches)\n",
        "\n",
        "        # classification token\n",
        "        self.classification_token = nn.Parameter(torch.randn(1, 1, embed_dim))\n",
        "\n",
        "        # transformer encoder layers\n",
        "        self.transformer_encoders = nn.ModuleList([\n",
        "            TransformerEncoder(embed_dim, num_heads, mlp_dim) for _ in range(num_layers)\n",
        "        ])\n",
        "\n",
        "        self.classifier = nn.Linear(embed_dim, num_classes)\n",
        "\n",
        "\n",
        "    def forward(self, x):\n",
        "        x = self.patch_embedding(x)\n",
        "        batch_size = x.size(0)\n",
        "        cls_tokens = self.classification_token.expand(batch_size, -1, -1)\n",
        "        x = torch.cat((cls_tokens, x), dim=1)\n",
        "        x = self.position_encoding(x)\n",
        "\n",
        "        for layer in self.transformer_encoders:\n",
        "            x = layer(x)\n",
        "\n",
        "        cls_token_out = x[:, 0]\n",
        "\n",
        "        out = self.classifier(cls_token_out)\n",
        "\n",
        "        return out\n",
        "\n",
        "\n",
        "\n",
        "\n"
      ],
      "metadata": {
        "id": "LLImwtsDSUDT"
      },
      "execution_count": 6,
      "outputs": []
    },
    {
      "cell_type": "markdown",
      "source": [
        "## Model Training\n",
        "\n",
        "We will be using the CIFAR-10K dataset to train the Vision Transformer Model."
      ],
      "metadata": {
        "id": "y_nJFesKhhNW"
      }
    },
    {
      "cell_type": "code",
      "source": [
        "from torchvision.datasets import CIFAR10\n",
        "from torchvision.transforms import transforms\n",
        "from torch.utils.data import DataLoader\n",
        "\n",
        "transform = transforms.Compose([\n",
        "    transforms.Resize((224, 224)),\n",
        "    transforms.RandomHorizontalFlip(),\n",
        "    transforms.ToTensor(),\n",
        "    transforms.Normalize(mean=[0.5, 0.5, 0.5], std=[0.5, 0.5, 0.5])\n",
        "])\n",
        "\n",
        "# Loading CIFAR-10 Dataset\n",
        "train_dataset = CIFAR10(root='./data', train=True, download=True, transform=transform)\n",
        "train_loader = DataLoader(train_dataset, batch_size=32, shuffle=True)\n",
        "\n"
      ],
      "metadata": {
        "colab": {
          "base_uri": "https://localhost:8080/"
        },
        "id": "cJQEN7M9SUJR",
        "outputId": "1c5ea5e3-383c-4a12-c7fb-d2f7f52d1808"
      },
      "execution_count": 7,
      "outputs": [
        {
          "output_type": "stream",
          "name": "stdout",
          "text": [
            "Downloading https://www.cs.toronto.edu/~kriz/cifar-10-python.tar.gz to ./data/cifar-10-python.tar.gz\n"
          ]
        },
        {
          "output_type": "stream",
          "name": "stderr",
          "text": [
            "100%|██████████| 170498071/170498071 [00:03<00:00, 43987480.21it/s]\n"
          ]
        },
        {
          "output_type": "stream",
          "name": "stdout",
          "text": [
            "Extracting ./data/cifar-10-python.tar.gz to ./data\n"
          ]
        }
      ]
    },
    {
      "cell_type": "code",
      "source": [
        "# setup device\n",
        "\n",
        "device = torch.device(\"cuda\" if torch.cuda.is_available() else \"cpu\")\n",
        "\n",
        "# Model Training\n",
        "\n",
        "img_size = 224\n",
        "in_channels = 3\n",
        "patch_size = 16\n",
        "embed_dim = 768\n",
        "mlp_dim = 3072\n",
        "num_heads = 12\n",
        "num_layers = 12\n",
        "num_classes = 10\n",
        "\n",
        "model = VisionTransformer(img_size, in_channels, patch_size, embed_dim, mlp_dim, num_heads, num_layers, num_classes)\n",
        "model = model.to(device)\n",
        "\n",
        "criterion = nn.CrossEntropyLoss()\n",
        "optimizer = torch.optim.Adam(model.parameters(), lr=0.001)\n",
        "\n",
        "\n",
        "for epoch in range(10):\n",
        "    model.train()\n",
        "    for images , labels in train_loader:\n",
        "        images , labels = images.to(device), labels.to(device)\n",
        "        optimizer.zero_grad()\n",
        "        outputs = model(images)\n",
        "        loss = criterion(outputs, labels)\n",
        "        loss.backward()\n",
        "        optimizer.step()\n",
        "\n",
        "    print(f'Epoch [{epoch+1}/10], Loss: {loss.item():.4f}')"
      ],
      "metadata": {
        "id": "HeiHaEbaCkrP",
        "colab": {
          "base_uri": "https://localhost:8080/"
        },
        "outputId": "3b688120-69fa-4571-aa61-4b2c5fa560db"
      },
      "execution_count": null,
      "outputs": [
        {
          "output_type": "stream",
          "name": "stdout",
          "text": [
            "Epoch [1/10], Loss: 2.2908\n"
          ]
        }
      ]
    }
  ]
}